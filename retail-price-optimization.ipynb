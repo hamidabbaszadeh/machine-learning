{
 "cells": [
  {
   "cell_type": "code",
   "execution_count": null,
   "metadata": {},
   "outputs": [],
   "source": [
    "import pandas as pd\n",
    "import plotly.express as px\n",
    "import plotly.graph_objects as go\n",
    "import plotly.io as pio\n",
    "pio.templates.default = \"plotly_white\"\n",
    "\n",
    "data = pd.read_csv('data/retail_price.csv')\n",
    "print(data.head())"
   ]
  },
  {
   "cell_type": "code",
   "execution_count": null,
   "metadata": {},
   "outputs": [],
   "source": [
    "print(data.isnull().sum())"
   ]
  },
  {
   "cell_type": "code",
   "execution_count": null,
   "metadata": {},
   "outputs": [],
   "source": [
    "print(data.describe())"
   ]
  },
  {
   "cell_type": "code",
   "execution_count": null,
   "metadata": {},
   "outputs": [],
   "source": [
    "fig = px.histogram(data,\n",
    "                   x = 'total_price',\n",
    "                   nbins = 20,\n",
    "                   title = 'Distribution of Total Price')\n",
    "fig.show()"
   ]
  },
  {
   "cell_type": "code",
   "execution_count": null,
   "metadata": {},
   "outputs": [],
   "source": [
    "fig = px.box(data,\n",
    "             y = 'unit_price',\n",
    "             title = \"Box Plot of unit Price\")\n",
    "fig.show()"
   ]
  },
  {
   "cell_type": "code",
   "execution_count": null,
   "metadata": {},
   "outputs": [],
   "source": [
    "fig = px.scatter(data,\n",
    "                 x = 'qty',\n",
    "                 y = 'total_price',\n",
    "                 title = 'Quantity vs Total Price',\n",
    "                 trendline = 'ols' )\n",
    "fig.show()"
   ]
  },
  {
   "cell_type": "code",
   "execution_count": null,
   "metadata": {},
   "outputs": [],
   "source": [
    "fig = px.bar(data,\n",
    "             x = 'product_category_name',\n",
    "             y = 'total_price',\n",
    "             title = \"Arage Total Price by Product Category\")\n",
    "fig.show()"
   ]
  },
  {
   "cell_type": "code",
   "execution_count": null,
   "metadata": {},
   "outputs": [],
   "source": [
    "fig = px.box(data,\n",
    "             x='weekday',\n",
    "             y= 'total_price',\n",
    "             title = 'Box Plot of Total Price by Weekdat')\n",
    "fig.show()"
   ]
  },
  {
   "cell_type": "code",
   "execution_count": null,
   "metadata": {},
   "outputs": [],
   "source": [
    "fig = px.box(data,\n",
    "             x = 'holiday',\n",
    "             y = 'total_price',\n",
    "             title = 'Box Plot of Total Price by Holiday')\n",
    "fig.show()"
   ]
  },
  {
   "cell_type": "code",
   "execution_count": null,
   "metadata": {},
   "outputs": [],
   "source": [
    "correlation_matrix = data.corr()\n",
    "fig = go.Figure(go.Heatmap(x = correlation_matrix.columns,\n",
    "                         y = correlation_matrix.columns,\n",
    "                         z = correlation_matrix.values))\n",
    "fig.update_layout(title = 'Correlation Heatmap of Numerical Features')\n",
    "fig.show()"
   ]
  },
  {
   "cell_type": "code",
   "execution_count": null,
   "metadata": {},
   "outputs": [],
   "source": [
    "data['comp_price_diff'] = data['unit_price'] - data['comp_1']\n",
    "\n",
    "avg_price_diff_by_catagory = data.groupby('product_category_name')['comp_price_diff'].mean().reset_index()\n",
    "\n",
    "fig = px.bar(avg_price_diff_by_catagory,\n",
    "             x = \"product_category_name\",\n",
    "             y = 'comp_price_diff',\n",
    "             title = 'Avrage Cometitor Price Difference by Product Category')\n",
    "fig.update_layout(\n",
    "    xaxis_title = 'Product Category',\n",
    "    yaxis_title = 'Avrage Competitor Price Difference'\n",
    ")\n",
    "\n",
    "fig.show()"
   ]
  },
  {
   "cell_type": "code",
   "execution_count": null,
   "metadata": {},
   "outputs": [],
   "source": [
    "from sklearn.model_selection import train_test_split\n",
    "from sklearn.tree import DecisionTreeRegressor\n",
    "from sklearn.metrics import mean_squared_error\n",
    "\n",
    "X = data[['qty', 'unit_price', 'comp_1', 'product_score', 'comp_price_diff']]\n",
    "y = data['total_price']\n",
    "\n",
    "X_train, X_test, y_train, y_test = train_test_split(X, y,\n",
    "                                                    test_size = 0.2,\n",
    "                                                    random_state = 42)\n",
    "# Train a linear regression model\n",
    "model = DecisionTreeRegressor()\n",
    "model.fit(X_train, y_train)"
   ]
  },
  {
   "cell_type": "code",
   "execution_count": null,
   "metadata": {},
   "outputs": [],
   "source": [
    "y_pred = model.predict(X_test)\n",
    "\n",
    "fig = go.Figure()\n",
    "fig.add_trace(go.Scatter(x = y_test,\n",
    "                         y = y_pred,\n",
    "                         mode = 'markers',\n",
    "                         marker = dict(color = 'blue'),\n",
    "                         name = 'Predicted vs. Actual Retail Price'))\n",
    "fig.add_trace(go.Scatter(x = [min(y_test), max(y_test)],\n",
    "                         y = [min(y_test), max(y_test)],\n",
    "                         mode = 'lines',\n",
    "                         marker = dict(color = 'red'),\n",
    "                         name = 'Ideal Prediction'))\n",
    "fig.update_layout(\n",
    "    title = 'Predicted vs. Actual Retail Price',\n",
    "    xaxis_title = 'Actual Retail Price',\n",
    "    yaxis_title = 'Predicted Retail Price'\n",
    ")\n",
    "fig.show()"
   ]
  }
 ],
 "metadata": {
  "kernelspec": {
   "display_name": "Python 3",
   "language": "python",
   "name": "python3"
  },
  "language_info": {
   "codemirror_mode": {
    "name": "ipython",
    "version": 3
   },
   "file_extension": ".py",
   "mimetype": "text/x-python",
   "name": "python",
   "nbconvert_exporter": "python",
   "pygments_lexer": "ipython3",
   "version": "3.9.16"
  },
  "orig_nbformat": 4
 },
 "nbformat": 4,
 "nbformat_minor": 2
}
