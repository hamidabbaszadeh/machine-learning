{
 "cells": [
  {
   "cell_type": "markdown",
   "metadata": {},
   "source": [
    "<div class=\"alert alert-info\">\n",
    "    <h2 align=\"center\"> Week 10: Deep Learning And Convolutional Neural Network</h2>\n",
    "    <h3 align=\"center\"><a href=\"http://www.snrazavi.ir\">Seyed Naser RAZAVI</a></h3>\n",
    "</div>"
   ]
  },
  {
   "cell_type": "markdown",
   "metadata": {},
   "source": [
    "# Recall\n",
    "- **Machine Learning:** Data + Model + Optimization\n",
    "\n",
    "### Data:\n",
    "- **Image Data:** CIFAR-10\n",
    "\n",
    "### Model\n",
    "- **Linear classification:** linear score function\n",
    "- **Non-linear classification:** Multi-layer Neural Networks\n",
    "\n",
    "### Optimization\n",
    "- **Loss function:** SVM or Softmax\n",
    "- **Optimization:** Gradient Decsent, SGD, SGD + momentum, etc.\n",
    "- **Backpropagation:** Computing gradients using chain rule\n",
    "- **Techniques:** Regularization, Batch Normalization, Dropout, Data Augmentation, etc."
   ]
  },
  {
   "cell_type": "markdown",
   "metadata": {},
   "source": [
    "# Today's Topics\n",
    "- Introduction to CNN\n",
    "- Introduction to Keras\n",
    "- Implementing CNN Using Keras "
   ]
  },
  {
   "cell_type": "markdown",
   "metadata": {},
   "source": [
    "<img align=\"left\" src=\"http://www.snrazavi.ir/imgs/Keras.png\" width=\"30%\"/>"
   ]
  },
  {
   "cell_type": "markdown",
   "metadata": {},
   "source": [
    "# Why Keras?\n",
    "- A very simple and popular framework for **Deep Learning**: (2nd place, 2017)\n",
    "- It is easy to learn and easy to use.\n",
    "- Very flexible and powerfull: it works on top of **Tensorflow** from Google.\n",
    "\n",
    "For more information, please see <a href=\"https://keras.io\">here</a>."
   ]
  },
  {
   "cell_type": "markdown",
   "metadata": {},
   "source": [
    "<img src=\"http://www.snrazavi.ir/imgs/DL-frameworks.png\" width=\"75%\"/>"
   ]
  },
  {
   "cell_type": "markdown",
   "metadata": {},
   "source": [
    "## How to install Keras\n",
    "- If you are using anaconda distribution for python, installing Keras is a very simple task.\n",
    "- Just type the following in the command prompt:\n",
    "\n",
    "#### GPU version:\n",
    "<code>\n",
    "> conda install -c anaconda keras-gpu\n",
    "</code>\n",
    "\n",
    "#### CPU version:\n",
    "<code>\n",
    "> conda install -c anaconda keras\n",
    "</code>"
   ]
  },
  {
   "cell_type": "code",
   "execution_count": null,
   "metadata": {},
   "outputs": [],
   "source": [
    "%matplotlib inline\n",
    "\n",
    "import numpy as np\n",
    "import matplotlib.pyplot as plt\n",
    "\n",
    "import keras\n",
    "from keras.datasets import cifar10\n",
    "from keras.models import Sequential\n",
    "from keras.layers import Dense, Activation"
   ]
  },
  {
   "cell_type": "code",
   "execution_count": null,
   "metadata": {},
   "outputs": [],
   "source": [
    "image_size = 32\n",
    "num_channels = 3\n",
    "num_features = image_size * image_size * num_channels\n",
    "num_classes = 10\n",
    "\n",
    "num_train = 49000"
   ]
  },
  {
   "cell_type": "markdown",
   "metadata": {},
   "source": [
    "# Load CIFAR10 Dataset"
   ]
  },
  {
   "cell_type": "code",
   "execution_count": null,
   "metadata": {
    "scrolled": true
   },
   "outputs": [],
   "source": [
    "(X_train, y_train), (X_test, y_test) = cifar10.load_data()\n",
    "\n",
    "print('Train data shape: {}'.format(X_train.shape))\n",
    "print('Test  data shape: {}'.format(X_test.shape))"
   ]
  },
  {
   "cell_type": "markdown",
   "metadata": {},
   "source": [
    "## Data Visualization"
   ]
  },
  {
   "cell_type": "code",
   "execution_count": null,
   "metadata": {},
   "outputs": [],
   "source": [
    "class_names = ['airplane', 'automobile', 'bird', 'cat', 'deer', 'dog', 'frog', 'horse', 'ship', 'truck']\n",
    "samples_per_class = 5\n",
    "\n",
    "plt.figure(figsize=(16, 8))\n",
    "\n",
    "for cls, name in enumerate(class_names):\n",
    "    idxs = np.flatnonzero(y_train == cls)\n",
    "    idxs = np.random.choice(idxs, samples_per_class, replace=False)\n",
    "    for i, idx in enumerate(idxs):\n",
    "        plt.subplot(samples_per_class, num_classes, i * num_classes + cls + 1)\n",
    "        plt.imshow(X_train[idx], interpolation='spline16')\n",
    "        plt.axis('off')\n",
    "        if i == 0:\n",
    "            plt.title(class_names[cls])"
   ]
  },
  {
   "cell_type": "markdown",
   "metadata": {},
   "source": [
    "## Data Preprocessing"
   ]
  },
  {
   "cell_type": "code",
   "execution_count": null,
   "metadata": {},
   "outputs": [],
   "source": [
    "# Convert 4D arrays to 2D arrays\n",
    "X_train = X_train.reshape([-1, num_features])\n",
    "X_test  =  X_test.reshape([-1, num_features])\n",
    "\n",
    "print('Train data shape: {}'.format(X_train.shape))\n",
    "print('Test  data shape: {}'.format(X_test.shape))"
   ]
  },
  {
   "cell_type": "code",
   "execution_count": null,
   "metadata": {},
   "outputs": [],
   "source": [
    "# convert pixel range from [0, 255] to [0., 1.]\n",
    "X_train = X_train.astype('float32')\n",
    "x_test  = X_test.astype('float32')\n",
    "\n",
    "mu = np.mean(X_train, axis=0)\n",
    "\n",
    "X_train -= mu\n",
    "X_train /= 255.0\n",
    "\n",
    "x_test -= mu\n",
    "x_test /= 255.0"
   ]
  },
  {
   "cell_type": "markdown",
   "metadata": {},
   "source": [
    "## One-hot encodding\n",
    "- We have 10 classes: 0, 1, ..., 9\n",
    "\n",
    "In one-hot encoding, we represent labels using vectors.\n",
    "\n",
    "```python\n",
    "0: [1, 0, 0, 0, 0, 0, 0, 0, 0, 0, 0]\n",
    "1: [0, 1, 0, 0, 0, 0, 0, 0, 0, 0, 0]\n",
    "2: [0, 0, 1, 0, 0, 0, 0, 0, 0, 0, 0]\n",
    ".\n",
    ".\n",
    ".\n",
    "9: [0, 0, 0, 0, 0, 0, 0, 0, 0, 0, 1]\n",
    "```"
   ]
  },
  {
   "cell_type": "code",
   "execution_count": null,
   "metadata": {},
   "outputs": [],
   "source": [
    "y_train = keras.utils.to_categorical(y_train, num_classes)\n",
    "y_test  = keras.utils.to_categorical(y_test,  num_classes)\n",
    "\n",
    "print(y_train.shape)\n",
    "print(y_test.shape)"
   ]
  },
  {
   "cell_type": "markdown",
   "metadata": {},
   "source": [
    "# Linear Classifier\n",
    "\n",
    "## $$f(x, W, b) = Wx+b$$"
   ]
  },
  {
   "cell_type": "markdown",
   "metadata": {},
   "source": [
    "<img src=\"http://www.snrazavi.ir/imgs/linear_classifier.jpg\" width=\"75%\"/>"
   ]
  },
  {
   "cell_type": "code",
   "execution_count": null,
   "metadata": {},
   "outputs": [],
   "source": [
    "model = Sequential()  # a sequence of layers\n",
    "model.add(Dense(num_classes, input_shape=(num_features,), activation='softmax'))"
   ]
  },
  {
   "cell_type": "code",
   "execution_count": null,
   "metadata": {},
   "outputs": [],
   "source": [
    "model.summary()"
   ]
  },
  {
   "cell_type": "markdown",
   "metadata": {},
   "source": [
    "## Train Model"
   ]
  },
  {
   "cell_type": "code",
   "execution_count": null,
   "metadata": {},
   "outputs": [],
   "source": [
    "model.compile(optimizer='sgd', loss='categorical_crossentropy', metrics=['accuracy'])"
   ]
  },
  {
   "cell_type": "code",
   "execution_count": null,
   "metadata": {},
   "outputs": [],
   "source": [
    "history = model.fit(X_train[:num_train], y_train[:num_train], \n",
    "                    batch_size=512, \n",
    "                    epochs=15,\n",
    "                    verbose=2,\n",
    "                    validation_data=(X_train[num_train:], y_train[num_train:]),\n",
    "                    shuffle=True)"
   ]
  },
  {
   "cell_type": "code",
   "execution_count": null,
   "metadata": {},
   "outputs": [],
   "source": [
    "model.save('Linear-model.keras')"
   ]
  },
  {
   "cell_type": "code",
   "execution_count": null,
   "metadata": {},
   "outputs": [],
   "source": [
    "plt.figure(figsize=(12, 6))\n",
    "plt.plot(history.history['loss'], label=\"Training loss\")\n",
    "plt.plot(history.history['val_loss'], label=\"Validation loss\")\n",
    "plt.legend()\n",
    "plt.title(\"Training vs Validation Loss\")\n",
    "plt.show()"
   ]
  },
  {
   "cell_type": "code",
   "execution_count": null,
   "metadata": {},
   "outputs": [],
   "source": [
    "plt.figure(figsize=(12, 6))\n",
    "plt.plot(history.history['accuracy'], label=\"Training acc\")\n",
    "plt.plot(history.history['val_accuracy'], label=\"Validation acc\")\n",
    "plt.legend()\n",
    "plt.title(\"Training vs Validation Accuracy\")\n",
    "plt.show()"
   ]
  },
  {
   "cell_type": "markdown",
   "metadata": {},
   "source": [
    "## Predicting class for new images"
   ]
  },
  {
   "cell_type": "code",
   "execution_count": null,
   "metadata": {},
   "outputs": [],
   "source": [
    "# Select 25 random images from test images\n",
    "idx = np.random.choice(x_test.shape[0], 25, replace=False)\n",
    "\n",
    "# predict class for selected images\n",
    "y_pred = model.predict(x_test[idx]).argmax(axis=1)\n",
    "\n",
    "# True class for selected images\n",
    "y_true = y_test[idx].argmax(axis=1)\n",
    "\n",
    "print('Test Accuracy = %.2f' % (100.0 * np.mean(y_pred == y_true)))"
   ]
  },
  {
   "cell_type": "code",
   "execution_count": null,
   "metadata": {},
   "outputs": [],
   "source": [
    "fig, axes = plt.subplots(5, 5, figsize=(18, 18))\n",
    "\n",
    "for i, ax in enumerate(axes.flat):\n",
    "    ax.imshow(X_test[idx[i]].reshape(image_size, image_size, num_channels), interpolation='spline16')\n",
    "    pred_class = class_names[y_pred[i]]\n",
    "    true_class = class_names[y_true[i]]\n",
    "    ax.set_xlabel('Pred: {}\\nTrue: {}'.format(pred_class, true_class), fontsize=12)\n",
    "    ax.set_xticks([])\n",
    "    ax.set_yticks([])"
   ]
  },
  {
   "cell_type": "markdown",
   "metadata": {},
   "source": [
    "# Multi-layer Neural Network\n",
    "\n",
    "### $$f(x) = W_3 \\times \\max(W_2 \\times \\max(0, W_1 x))$$"
   ]
  },
  {
   "cell_type": "markdown",
   "metadata": {},
   "source": [
    "<img src=\"http://www.snrazavi.ir/imgs/neural_net2.jpeg\" width=\"50%\"/>"
   ]
  },
  {
   "cell_type": "code",
   "execution_count": null,
   "metadata": {},
   "outputs": [],
   "source": [
    "model = Sequential()\n",
    "\n",
    "# First hidden Layer\n",
    "model.add(Dense(units=100, input_shape=(num_features,)))\n",
    "model.add(Activation(activation='relu'))\n",
    "\n",
    "# Second hidden Layer\n",
    "model.add(Dense(units=100))\n",
    "model.add(Activation(activation='relu'))\n",
    "\n",
    "model.add(Dense(units=100, input_shape=(num_features,)))\n",
    "model.add(Activation(activation='relu'))\n",
    "\n",
    "\n",
    "# Output Layer\n",
    "model.add(Dense(units=num_classes, activation='softmax'))"
   ]
  },
  {
   "cell_type": "code",
   "execution_count": null,
   "metadata": {
    "scrolled": true
   },
   "outputs": [],
   "source": [
    "model.summary()"
   ]
  },
  {
   "cell_type": "markdown",
   "metadata": {},
   "source": [
    "### Training the model"
   ]
  },
  {
   "cell_type": "code",
   "execution_count": null,
   "metadata": {},
   "outputs": [],
   "source": [
    "optimizer = keras.optimizers.RMSprop(learning_rate=0.001)\n",
    "model.compile(optimizer=optimizer, loss='categorical_crossentropy', metrics=['accuracy'])"
   ]
  },
  {
   "cell_type": "code",
   "execution_count": null,
   "metadata": {
    "scrolled": false
   },
   "outputs": [],
   "source": [
    "model.fit(X_train[:num_train], y_train[:num_train],\n",
    "          batch_size=256,\n",
    "          epochs=15,\n",
    "          validation_data=(X_train[num_train:], y_train[num_train:]))"
   ]
  },
  {
   "cell_type": "code",
   "execution_count": null,
   "metadata": {},
   "outputs": [],
   "source": [
    "model.save('nn.h5')\n",
    "# model = keras.models.load_model('nn.h5')"
   ]
  },
  {
   "cell_type": "markdown",
   "metadata": {},
   "source": [
    "## Adding Dropout and Batch Normalization"
   ]
  },
  {
   "cell_type": "code",
   "execution_count": null,
   "metadata": {},
   "outputs": [],
   "source": [
    "from keras.layers import BatchNormalization, Dropout"
   ]
  },
  {
   "cell_type": "code",
   "execution_count": null,
   "metadata": {},
   "outputs": [],
   "source": [
    "model = Sequential()\n",
    "\n",
    "# First Hidden Layer\n",
    "model.add(Dense(units=100, input_shape=(num_features,)))\n",
    "model.add(BatchNormalization())\n",
    "model.add(Activation(activation='relu'))\n",
    "model.add(Dropout(0.2))\n",
    "\n",
    "# Second Hidden Layer\n",
    "model.add(Dense(units=100))\n",
    "model.add(BatchNormalization())\n",
    "model.add(Activation(activation='relu'))\n",
    "model.add(Dropout(0.2))\n",
    "\n",
    "# Output Layer\n",
    "model.add(Dense(units=num_classes, activation='softmax'))\n",
    "\n",
    "# print model\n",
    "model.summary()"
   ]
  },
  {
   "cell_type": "markdown",
   "metadata": {},
   "source": [
    "### Training the model"
   ]
  },
  {
   "cell_type": "code",
   "execution_count": null,
   "metadata": {},
   "outputs": [],
   "source": [
    "optimizer = keras.optimizers.Adam(learning_rate=0.02, epsilon=1e-6)\n",
    "model.compile(optimizer=optimizer, loss='categorical_crossentropy', metrics=['accuracy'])"
   ]
  },
  {
   "cell_type": "code",
   "execution_count": null,
   "metadata": {
    "scrolled": false
   },
   "outputs": [],
   "source": [
    "model.fit(X_train[:num_train], y_train[:num_train],\n",
    "          batch_size=256,\n",
    "          epochs=15,\n",
    "          validation_data=(X_train[num_train:], y_train[num_train:]))"
   ]
  },
  {
   "cell_type": "code",
   "execution_count": null,
   "metadata": {},
   "outputs": [],
   "source": [
    "model.save('nn-dropout-bn.h5')\n",
    "# model = keras.models.load_model('nn-dropout-bn.h5')"
   ]
  },
  {
   "cell_type": "code",
   "execution_count": null,
   "metadata": {},
   "outputs": [],
   "source": [
    "model.evaluate(x_test, y_test, batch_size=256)"
   ]
  },
  {
   "cell_type": "markdown",
   "metadata": {
    "collapsed": true
   },
   "source": [
    "# Convolutional Neural Networks"
   ]
  },
  {
   "cell_type": "markdown",
   "metadata": {},
   "source": [
    "<img src=\"http://www.snrazavi.ir/imgs/CNN.png\" width=\"75%\"/>"
   ]
  },
  {
   "cell_type": "markdown",
   "metadata": {},
   "source": [
    "<img src=\"http://www.snrazavi.ir/imgs/cnn_flowchart.png\" width=\"100%\"/>"
   ]
  },
  {
   "cell_type": "markdown",
   "metadata": {
    "collapsed": true
   },
   "source": [
    "## Convolution layer"
   ]
  },
  {
   "cell_type": "markdown",
   "metadata": {
    "collapsed": true
   },
   "source": [
    "<img src=\"http://www.snrazavi.ir/imgs/conv_layer.gif\" width=\"80%\"/>"
   ]
  },
  {
   "cell_type": "markdown",
   "metadata": {},
   "source": [
    "## Pooling layer"
   ]
  },
  {
   "cell_type": "markdown",
   "metadata": {},
   "source": [
    "<img src=\"http://www.snrazavi.ir/imgs/maxpool.jpeg\" width=\"60%\"/>"
   ]
  },
  {
   "cell_type": "markdown",
   "metadata": {},
   "source": [
    "### Visualization and Underestanding CNN\n",
    "See This <a href=\"https://www.youtube.com/watch?v=ghEmQSxT6tw&t=1001s\">video from Matt Zeiler</a> for a better understanding of convolutional neural network."
   ]
  },
  {
   "cell_type": "code",
   "execution_count": null,
   "metadata": {},
   "outputs": [],
   "source": [
    "%%HTML\n",
    "<iframe width=\"854\" height=\"480\" src=\"https://www.youtube.com/embed/ghEmQSxT6tw\" frameborder=\"0\" gesture=\"media\" allow=\"encrypted-media\" allowfullscreen></iframe>"
   ]
  },
  {
   "cell_type": "markdown",
   "metadata": {},
   "source": [
    "## Converting dataset to 4D array"
   ]
  },
  {
   "cell_type": "code",
   "execution_count": null,
   "metadata": {},
   "outputs": [],
   "source": [
    "X_train = X_train.reshape((-1, image_size, image_size, num_channels))\n",
    "X_test  =  X_test.reshape((-1, image_size, image_size, num_channels))\n",
    "x_test  =  x_test.reshape((-1, image_size, image_size, num_channels))"
   ]
  },
  {
   "cell_type": "code",
   "execution_count": null,
   "metadata": {},
   "outputs": [],
   "source": [
    "from keras.layers import Conv2D, MaxPooling2D, Flatten"
   ]
  },
  {
   "cell_type": "code",
   "execution_count": null,
   "metadata": {},
   "outputs": [],
   "source": [
    "def create_cnn():\n",
    "    model = Sequential()\n",
    "\n",
    "    # Conv Block 1\n",
    "    model.add(Conv2D(64, (3, 3), padding='same', input_shape=X_train.shape[1:], activation='relu'))\n",
    "    model.add(Conv2D(64, (3, 3), activation='relu'))\n",
    "    model.add(MaxPooling2D(pool_size=(2, 2)))\n",
    "    model.add(Dropout(0.25))\n",
    "\n",
    "    # Conv Block 2\n",
    "    model.add(Conv2D(128, (3, 3), padding='same', activation='relu'))\n",
    "    model.add(Conv2D(128, (3, 3), activation='relu'))\n",
    "    model.add(MaxPooling2D(pool_size=(2, 2)))\n",
    "    model.add(Dropout(0.25))\n",
    "\n",
    "    # Conv Block 3\n",
    "    model.add(Conv2D(256, (3, 3), padding='same', activation='relu'))\n",
    "    model.add(Conv2D(256, (3, 3), activation='relu'))\n",
    "    model.add(MaxPooling2D(pool_size=(2, 2)))\n",
    "    model.add(Dropout(0.25))\n",
    "\n",
    "    # Classifier\n",
    "    model.add(Flatten())\n",
    "    model.add(Dense(128, activation='relu'))\n",
    "    model.add(Dropout(0.25))\n",
    "    model.add(Dense(num_classes, activation='softmax'))\n",
    "    \n",
    "    return model\n",
    "\n",
    "model = create_cnn()\n",
    "\n",
    "#print model\n",
    "model.summary()"
   ]
  },
  {
   "cell_type": "code",
   "execution_count": null,
   "metadata": {},
   "outputs": [],
   "source": [
    "optimizer = keras.optimizers.Adam(learning_rate=0.001)\n",
    "model.compile(optimizer=optimizer, loss='categorical_crossentropy', metrics=['accuracy'])\n",
    "\n",
    "model.fit(X_train[:num_train], y_train[:num_train],\n",
    "          batch_size=200,\n",
    "          epochs=1,\n",
    "          validation_data=(X_train[num_train:], y_train[num_train:]))"
   ]
  },
  {
   "cell_type": "markdown",
   "metadata": {},
   "source": [
    "## Data Augmentation\n",
    "<img src=\"http://www.snrazavi.ir/imgs/09-Augmentation.jpg\" width=\"80%\"/>"
   ]
  },
  {
   "cell_type": "code",
   "execution_count": null,
   "metadata": {},
   "outputs": [],
   "source": [
    "model = create_cnn()\n",
    "optimizer = keras.optimizers.Adam(learning_rate=0.001)\n",
    "model.compile(optimizer=optimizer, loss='categorical_crossentropy', metrics=['accuracy'])"
   ]
  },
  {
   "cell_type": "code",
   "execution_count": null,
   "metadata": {},
   "outputs": [],
   "source": [
    "from keras.preprocessing.image import ImageDataGenerator\n",
    "\n",
    "epochs = 5\n",
    "batch_size = 256\n",
    "data_augmentation = True\n",
    "\n",
    "\n",
    "if not data_augmentation:\n",
    "    print('Training without data augmentation.')\n",
    "    model.fit(X_train[:num_train], y_train[:num_train], \n",
    "              batch_size=batch_size, \n",
    "              epochs=epochs,\n",
    "              validation_data=(X_test, y_test),\n",
    "              shuffle=True)\n",
    "else:\n",
    "    print('Training using real-time data augmentation.')\n",
    "    datagen = ImageDataGenerator(\n",
    "        featurewise_center=False, \n",
    "        samplewise_center=False, \n",
    "        featurewise_std_normalization=False, \n",
    "        samplewise_std_normalization=False, \n",
    "        zca_whitening=False, \n",
    "        rotation_range=0, \n",
    "        width_shift_range=0.1, \n",
    "        height_shift_range=0.1, \n",
    "        horizontal_flip=True, \n",
    "        vertical_flip=False)\n",
    "    \n",
    "    datagen.fit(X_train[:num_train])\n",
    "    \n",
    "    model.fit_generator(datagen.flow(X_train[:num_train], y_train[:num_train], batch_size=batch_size),\n",
    "                        steps_per_epoch=num_train//batch_size,\n",
    "                        epochs=epochs,\n",
    "                        validation_data=(X_train[num_train:], y_train[num_train:]))"
   ]
  },
  {
   "cell_type": "markdown",
   "metadata": {},
   "source": [
    "### Saving and Loading model"
   ]
  },
  {
   "cell_type": "code",
   "execution_count": null,
   "metadata": {
    "collapsed": true
   },
   "outputs": [],
   "source": [
    "# model.save('cnn_data_augmentation.h5')"
   ]
  },
  {
   "cell_type": "code",
   "execution_count": null,
   "metadata": {
    "collapsed": true
   },
   "outputs": [],
   "source": [
    "model = keras.models.load_model('cnn_data_augmentation.h5')"
   ]
  },
  {
   "cell_type": "code",
   "execution_count": null,
   "metadata": {},
   "outputs": [],
   "source": [
    "model.evaluate(x_test, y_test, batch_size=250)"
   ]
  },
  {
   "cell_type": "markdown",
   "metadata": {},
   "source": [
    "## Predicting class for new images"
   ]
  },
  {
   "cell_type": "code",
   "execution_count": null,
   "metadata": {
    "collapsed": true
   },
   "outputs": [],
   "source": [
    "y_test = np.argmax(y_test, axis=1) # to 0, 1, ..., 9"
   ]
  },
  {
   "cell_type": "code",
   "execution_count": null,
   "metadata": {},
   "outputs": [],
   "source": [
    "plt.figure(figsize=(12, 24))\n",
    "idx = np.random.choice(len(x_test), 10, replace=False)\n",
    "\n",
    "p = model.predict(x_test[idx])\n",
    "\n",
    "for i in range(len(idx)):\n",
    "    plt.subplot(10, 2, 2*i+1)\n",
    "    plt.imshow(X_test[idx[i]], interpolation='spline16')\n",
    "    plt.title(class_names[y_test[idx[i]]])\n",
    "    plt.grid(False)\n",
    "    plt.xticks([])\n",
    "    plt.yticks([])\n",
    "    \n",
    "    pred_label = np.argsort(-p[i])[:3]\n",
    "    pred_prob = [p[i][l] for l in pred_label]\n",
    "    pred_label = [class_names[l] for l in pred_label]\n",
    "    \n",
    "    plt.subplot(10, 2, 2*i+2)\n",
    "    plt.bar(range(3), pred_prob)\n",
    "    plt.xticks(range(3), pred_label)\n",
    "\n",
    "plt.show()"
   ]
  },
  {
   "cell_type": "markdown",
   "metadata": {},
   "source": [
    "# Last Word\n",
    "- Solve problems (<a href=\"www.kaggle.com\">Kaggle</a> is a very good place to start)\n",
    "- Read papers\n",
    "- Write about your experiments (both failure and success)\n",
    "- Attend in my Deep Learning workshop (within 4 to 6 weeks)"
   ]
  },
  {
   "cell_type": "markdown",
   "metadata": {},
   "source": [
    "# What will be covered in DL workshop?\n",
    "- A framework for coding (Tensorflow, pyTorch, Keras)\n",
    "- Convolutional Neural Networks (a deeper look)\n",
    "- Recurrent Neural Networks for temporal data (text, speech, video)\n",
    "- Generative Models\n",
    "- Deep reinforcement Learning (robotics, game, self-driving cars)\n",
    "- Some applications (Image Captioning, Sentiment Analysis, Machine Translation, etc.)\n",
    "\n",
    "See you soon!"
   ]
  }
 ],
 "metadata": {
  "kernelspec": {
   "display_name": "Python 3 (ipykernel)",
   "language": "python",
   "name": "python3"
  },
  "language_info": {
   "codemirror_mode": {
    "name": "ipython",
    "version": 3
   },
   "file_extension": ".py",
   "mimetype": "text/x-python",
   "name": "python",
   "nbconvert_exporter": "python",
   "pygments_lexer": "ipython3",
   "version": "3.9.16"
  }
 },
 "nbformat": 4,
 "nbformat_minor": 1
}
