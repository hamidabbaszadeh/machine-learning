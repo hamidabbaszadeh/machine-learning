{
 "cells": [
  {
   "cell_type": "code",
   "execution_count": 1,
   "id": "26954eed-67f0-4a3f-a183-ea263b226a8b",
   "metadata": {},
   "outputs": [],
   "source": [
    "import tensorflow as tf\n",
    "mnist = tf.keras.datasets.mnist"
   ]
  },
  {
   "cell_type": "code",
   "execution_count": 2,
   "id": "f4e95eea-f5ac-497e-8893-6b3c153a0b91",
   "metadata": {},
   "outputs": [],
   "source": [
    "(x_train, y_train),(x_test, y_test) = mnist.load_data()\n",
    "x_train, x_test = x_train / 255.0, x_test / 255.0"
   ]
  },
  {
   "cell_type": "code",
   "execution_count": 3,
   "id": "a9204944-e109-4400-994d-b50a82c88697",
   "metadata": {},
   "outputs": [
    {
     "name": "stdout",
     "output_type": "stream",
     "text": [
      "Model: \"sequential\"\n",
      "_________________________________________________________________\n",
      " Layer (type)                Output Shape              Param #   \n",
      "=================================================================\n",
      " flatten (Flatten)           (None, 784)               0         \n",
      "                                                                 \n",
      " dense (Dense)               (None, 512)               401920    \n",
      "                                                                 \n",
      " activation (Activation)     (None, 512)               0         \n",
      "                                                                 \n",
      " dense_1 (Dense)             (None, 256)               131328    \n",
      "                                                                 \n",
      " activation_1 (Activation)   (None, 256)               0         \n",
      "                                                                 \n",
      " dense_2 (Dense)             (None, 128)               32896     \n",
      "                                                                 \n",
      " activation_2 (Activation)   (None, 128)               0         \n",
      "                                                                 \n",
      " dropout (Dropout)           (None, 128)               0         \n",
      "                                                                 \n",
      " dense_3 (Dense)             (None, 10)                1290      \n",
      "                                                                 \n",
      " activation_3 (Activation)   (None, 10)                0         \n",
      "                                                                 \n",
      "=================================================================\n",
      "Total params: 567434 (2.16 MB)\n",
      "Trainable params: 567434 (2.16 MB)\n",
      "Non-trainable params: 0 (0.00 Byte)\n",
      "_________________________________________________________________\n"
     ]
    }
   ],
   "source": [
    "model = tf.keras.models.Sequential([\n",
    "    tf.keras.layers.Flatten(input_shape=(28, 28)),\n",
    "    tf.keras.layers.Dense(512),\n",
    "    tf.keras.layers.Activation('relu'),\n",
    "    tf.keras.layers.Dense(256),\n",
    "    tf.keras.layers.Activation('relu'),\n",
    "    tf.keras.layers.Dense(128),\n",
    "    tf.keras.layers.Activation('relu'),\n",
    "    tf.keras.layers.Dropout(0.2),\n",
    "    tf.keras.layers.Dense(10),\n",
    "    tf.keras.layers.Activation('softmax')\n",
    "])\n",
    "model.summary()"
   ]
  },
  {
   "cell_type": "code",
   "execution_count": 4,
   "id": "99c46bd5-1149-4d7e-a4b8-353e04f4e27e",
   "metadata": {},
   "outputs": [],
   "source": [
    "model.compile(optimizer='adam',\n",
    "              loss='sparse_categorical_crossentropy',\n",
    "              metrics=['accuracy'])"
   ]
  },
  {
   "cell_type": "code",
   "execution_count": 5,
   "id": "828273d5-605a-4eba-9bd0-b3e27e47a597",
   "metadata": {},
   "outputs": [
    {
     "name": "stdout",
     "output_type": "stream",
     "text": [
      "Epoch 1/25\n",
      "1875/1875 [==============================] - 12s 6ms/step - loss: 0.2110 - accuracy: 0.9367\n",
      "Epoch 2/25\n",
      "1875/1875 [==============================] - 11s 6ms/step - loss: 0.0930 - accuracy: 0.9716\n",
      "Epoch 3/25\n",
      "1875/1875 [==============================] - 11s 6ms/step - loss: 0.0647 - accuracy: 0.9804\n",
      "Epoch 4/25\n",
      "1875/1875 [==============================] - 11s 6ms/step - loss: 0.0527 - accuracy: 0.9840\n",
      "Epoch 5/25\n",
      "1875/1875 [==============================] - 11s 6ms/step - loss: 0.0417 - accuracy: 0.9872\n",
      "Epoch 6/25\n",
      "1875/1875 [==============================] - 11s 6ms/step - loss: 0.0383 - accuracy: 0.9885\n",
      "Epoch 7/25\n",
      "1875/1875 [==============================] - 11s 6ms/step - loss: 0.0314 - accuracy: 0.9902\n",
      "Epoch 8/25\n",
      "1875/1875 [==============================] - 11s 6ms/step - loss: 0.0268 - accuracy: 0.9918\n",
      "Epoch 9/25\n",
      "1875/1875 [==============================] - 11s 6ms/step - loss: 0.0256 - accuracy: 0.9922\n",
      "Epoch 10/25\n",
      "1875/1875 [==============================] - 11s 6ms/step - loss: 0.0222 - accuracy: 0.9932\n",
      "Epoch 11/25\n",
      "1875/1875 [==============================] - 11s 6ms/step - loss: 0.0226 - accuracy: 0.9935\n",
      "Epoch 12/25\n",
      "1875/1875 [==============================] - 11s 6ms/step - loss: 0.0189 - accuracy: 0.9945\n",
      "Epoch 13/25\n",
      "1875/1875 [==============================] - 11s 6ms/step - loss: 0.0194 - accuracy: 0.9948\n",
      "Epoch 14/25\n",
      "1875/1875 [==============================] - 11s 6ms/step - loss: 0.0172 - accuracy: 0.9947\n",
      "Epoch 15/25\n",
      "1875/1875 [==============================] - 11s 6ms/step - loss: 0.0165 - accuracy: 0.9952\n",
      "Epoch 16/25\n",
      "1875/1875 [==============================] - 11s 6ms/step - loss: 0.0147 - accuracy: 0.9957\n",
      "Epoch 17/25\n",
      "1875/1875 [==============================] - 11s 6ms/step - loss: 0.0169 - accuracy: 0.9958\n",
      "Epoch 18/25\n",
      "1875/1875 [==============================] - 11s 6ms/step - loss: 0.0142 - accuracy: 0.9960\n",
      "Epoch 19/25\n",
      "1875/1875 [==============================] - 11s 6ms/step - loss: 0.0141 - accuracy: 0.9962\n",
      "Epoch 20/25\n",
      "1875/1875 [==============================] - 11s 6ms/step - loss: 0.0135 - accuracy: 0.9964\n",
      "Epoch 21/25\n",
      "1875/1875 [==============================] - 11s 6ms/step - loss: 0.0152 - accuracy: 0.9962\n",
      "Epoch 22/25\n",
      "1875/1875 [==============================] - 11s 6ms/step - loss: 0.0148 - accuracy: 0.9962\n",
      "Epoch 23/25\n",
      "1875/1875 [==============================] - 11s 6ms/step - loss: 0.0124 - accuracy: 0.9972\n",
      "Epoch 24/25\n",
      "1875/1875 [==============================] - 11s 6ms/step - loss: 0.0108 - accuracy: 0.9970\n",
      "Epoch 25/25\n",
      "1875/1875 [==============================] - 11s 6ms/step - loss: 0.0141 - accuracy: 0.9968\n"
     ]
    }
   ],
   "source": [
    "history = model.fit(x_train, y_train, epochs=25)"
   ]
  },
  {
   "cell_type": "code",
   "execution_count": 6,
   "id": "f51afee7-ac09-48b3-9ae8-a148fce0340d",
   "metadata": {},
   "outputs": [
    {
     "name": "stdout",
     "output_type": "stream",
     "text": [
      "313/313 [==============================] - 1s 2ms/step - loss: 0.1355 - accuracy: 0.9816\n"
     ]
    },
    {
     "data": {
      "text/plain": [
       "[0.1355050951242447, 0.9815999865531921]"
      ]
     },
     "execution_count": 6,
     "metadata": {},
     "output_type": "execute_result"
    }
   ],
   "source": [
    "model.evaluate(x_test, y_test)"
   ]
  },
  {
   "cell_type": "code",
   "execution_count": 7,
   "id": "762a6503-f6b6-4d27-8219-a71a956550a1",
   "metadata": {},
   "outputs": [
    {
     "name": "stdout",
     "output_type": "stream",
     "text": [
      "dict_keys(['loss', 'accuracy'])\n"
     ]
    },
    {
     "data": {
      "image/png": "[encoded data removed]",
      "text/plain": [
       "<Figure size 640x480 with 1 Axes>"
      ]
     },
     "metadata": {},
     "output_type": "display_data"
    }
   ],
   "source": [
    "import matplotlib.pyplot as plt\n",
    "# list all data in history\n",
    "print(history.history.keys())\n",
    "# summarize history for accuracy\n",
    "plt.plot(history.history['accuracy'])\n",
    "# plt.plot(history.history['val_accuracy'])\n",
    "plt.title('model accuracy')\n",
    "plt.ylabel('accuracy')\n",
    "plt.xlabel('epoch')\n",
    "plt.legend(['train', 'test'], loc='upper left')\n",
    "# plt.show()\n",
    "# summarize history for loss\n",
    "plt.plot(history.history['loss'])\n",
    "# plt.plot(history.history['val_loss'])\n",
    "plt.title('model loss')\n",
    "plt.ylabel('loss')\n",
    "plt.xlabel('epoch')\n",
    "plt.legend(['train', 'test'], loc='upper left')\n",
    "plt.show()"
   ]
  },
  {
   "cell_type": "code",
   "execution_count": null,
   "id": "c6682df4-377a-48a7-82b0-1203ecb85873",
   "metadata": {},
   "outputs": [],
   "source": []
  }
 ],
 "metadata": {
  "kernelspec": {
   "display_name": "Python 3 (ipykernel)",
   "language": "python",
   "name": "python3"
  },
  "language_info": {
   "codemirror_mode": {
    "name": "ipython",
    "version": 3
   },
   "file_extension": ".py",
   "mimetype": "text/x-python",
   "name": "python",
   "nbconvert_exporter": "python",
   "pygments_lexer": "ipython3",
   "version": "3.9.16"
  }
 },
 "nbformat": 4,
 "nbformat_minor": 5
}
