{
 "cells": [
  {
   "cell_type": "code",
   "execution_count": 1,
   "metadata": {},
   "outputs": [],
   "source": [
    "import numpy as np\n",
    "import os\n",
    "import pandas as pd\n",
    "import matplotlib.pyplot as plt\n",
    "from keras.preprocessing.image import ImageDataGenerator\n",
    "from sklearn.model_selection import train_test_split\n",
    "from keras.applications import VGG16\n",
    "from keras.models import Sequential\n",
    "from keras.layers import Dense, Dropout, Flatten, MaxPool2D\n",
    "import cv2\n",
    "\n"
   ]
  },
  {
   "cell_type": "code",
   "execution_count": 2,
   "metadata": {},
   "outputs": [
    {
     "data": {
      "text/html": [
       "<div>\n",
       "<style scoped>\n",
       "    .dataframe tbody tr th:only-of-type {\n",
       "        vertical-align: middle;\n",
       "    }\n",
       "\n",
       "    .dataframe tbody tr th {\n",
       "        vertical-align: top;\n",
       "    }\n",
       "\n",
       "    .dataframe thead th {\n",
       "        text-align: right;\n",
       "    }\n",
       "</style>\n",
       "<table border=\"1\" class=\"dataframe\">\n",
       "  <thead>\n",
       "    <tr style=\"text-align: right;\">\n",
       "      <th></th>\n",
       "      <th>Unnamed: 0</th>\n",
       "      <th>path</th>\n",
       "      <th>crop</th>\n",
       "      <th>croplabel</th>\n",
       "    </tr>\n",
       "  </thead>\n",
       "  <tbody>\n",
       "    <tr>\n",
       "      <th>0</th>\n",
       "      <td>0</td>\n",
       "      <td>/kaggle/input/kag2/sugarcane/sugarcane037ahs.jpeg</td>\n",
       "      <td>sugarcane</td>\n",
       "      <td>3</td>\n",
       "    </tr>\n",
       "    <tr>\n",
       "      <th>1</th>\n",
       "      <td>1</td>\n",
       "      <td>/kaggle/input/kag2/sugarcane/sugarcane034a.jpeg</td>\n",
       "      <td>sugarcane</td>\n",
       "      <td>3</td>\n",
       "    </tr>\n",
       "    <tr>\n",
       "      <th>2</th>\n",
       "      <td>2</td>\n",
       "      <td>/kaggle/input/kag2/sugarcane/sugarcane032arot....</td>\n",
       "      <td>sugarcane</td>\n",
       "      <td>3</td>\n",
       "    </tr>\n",
       "    <tr>\n",
       "      <th>3</th>\n",
       "      <td>3</td>\n",
       "      <td>/kaggle/input/kag2/sugarcane/sugarcane036ahs.jpeg</td>\n",
       "      <td>sugarcane</td>\n",
       "      <td>3</td>\n",
       "    </tr>\n",
       "    <tr>\n",
       "      <th>4</th>\n",
       "      <td>4</td>\n",
       "      <td>/kaggle/input/kag2/sugarcane/sugarcane023ahs.jpeg</td>\n",
       "      <td>sugarcane</td>\n",
       "      <td>3</td>\n",
       "    </tr>\n",
       "  </tbody>\n",
       "</table>\n",
       "</div>"
      ],
      "text/plain": [
       "   Unnamed: 0                                               path       crop  \\\n",
       "0           0  /kaggle/input/kag2/sugarcane/sugarcane037ahs.jpeg  sugarcane   \n",
       "1           1    /kaggle/input/kag2/sugarcane/sugarcane034a.jpeg  sugarcane   \n",
       "2           2  /kaggle/input/kag2/sugarcane/sugarcane032arot....  sugarcane   \n",
       "3           3  /kaggle/input/kag2/sugarcane/sugarcane036ahs.jpeg  sugarcane   \n",
       "4           4  /kaggle/input/kag2/sugarcane/sugarcane023ahs.jpeg  sugarcane   \n",
       "\n",
       "   croplabel  \n",
       "0          3  \n",
       "1          3  \n",
       "2          3  \n",
       "3          3  \n",
       "4          3  "
      ]
     },
     "execution_count": 2,
     "metadata": {},
     "output_type": "execute_result"
    }
   ],
   "source": [
    "df = pd.read_csv('data/crop_detection/Crop_details.csv')\n",
    "df.head()"
   ]
  },
  {
   "cell_type": "code",
   "execution_count": 3,
   "metadata": {},
   "outputs": [
    {
     "data": {
      "text/plain": [
       "['jute', 'maize', 'rice', 'sugarcane', 'wheat']"
      ]
     },
     "execution_count": 3,
     "metadata": {},
     "output_type": "execute_result"
    }
   ],
   "source": [
    "categories = os.listdir('data/crop_detection/kag2')\n",
    "categories"
   ]
  },
  {
   "cell_type": "code",
   "execution_count": 4,
   "metadata": {},
   "outputs": [],
   "source": [
    "getData = ImageDataGenerator(rescale=1/255,\n",
    "                             shear_range=0.3,\n",
    "                             horizontal_flip=True,\n",
    "                             vertical_flip=True,\n",
    "                             rotation_range=90)"
   ]
  },
  {
   "cell_type": "code",
   "execution_count": 6,
   "metadata": {},
   "outputs": [
    {
     "name": "stdout",
     "output_type": "stream",
     "text": [
      "Found 804 images belonging to 5 classes.\n"
     ]
    }
   ],
   "source": [
    "kag2_data = getData.flow_from_directory(\"data/crop_detection/kag2\",\n",
    "                                        target_size=(224,224),\n",
    "                                        class_mode='categorical',\n",
    "                                        shuffle=True,\n",
    "                                        batch_size=32)"
   ]
  },
  {
   "cell_type": "code",
   "execution_count": 8,
   "metadata": {},
   "outputs": [
    {
     "name": "stdout",
     "output_type": "stream",
     "text": [
      "Downloading data from https://storage.googleapis.com/tensorflow/keras-applications/vgg16/vgg16_weights_tf_dim_ordering_tf_kernels_notop.h5\n",
      "58889256/58889256 [==============================] - 616s 10us/step\n"
     ]
    }
   ],
   "source": [
    "vgg_model = VGG16(input_shape=(224,224,3),\n",
    "                  include_top=False,\n",
    "                  weights='imagenet',\n",
    "                  pooling='avg')\n",
    "for layers in vgg_model.layers:\n",
    "    layers.trainable = False"
   ]
  },
  {
   "cell_type": "code",
   "execution_count": 9,
   "metadata": {},
   "outputs": [],
   "source": [
    "model = Sequential()\n",
    "model.add(vgg_model)\n",
    "model.add(Dense(512,activation=\"relu\"))\n",
    "model.add(Dropout(0.3))\n",
    "model.add(Dense(128,activation=\"relu\"))\n",
    "model.add(Dropout(0.5))\n",
    "model.add(Dense(5,activation=\"softmax\"))"
   ]
  },
  {
   "cell_type": "code",
   "execution_count": 13,
   "metadata": {},
   "outputs": [],
   "source": [
    "from keras.optimizers import Adam\n",
    "model.compile(optimizer=Adam(learning_rate=0.001),\n",
    "              loss=\"categorical_crossentropy\",\n",
    "              metrics=['accuracy'])"
   ]
  },
  {
   "cell_type": "code",
   "execution_count": 14,
   "metadata": {},
   "outputs": [
    {
     "name": "stdout",
     "output_type": "stream",
     "text": [
      "Model: \"sequential\"\n",
      "_________________________________________________________________\n",
      " Layer (type)                Output Shape              Param #   \n",
      "=================================================================\n",
      " vgg16 (Functional)          (None, 512)               14714688  \n",
      "                                                                 \n",
      " dense (Dense)               (None, 512)               262656    \n",
      "                                                                 \n",
      " dropout (Dropout)           (None, 512)               0         \n",
      "                                                                 \n",
      " dense_1 (Dense)             (None, 128)               65664     \n",
      "                                                                 \n",
      " dropout_1 (Dropout)         (None, 128)               0         \n",
      "                                                                 \n",
      " dense_2 (Dense)             (None, 5)                 645       \n",
      "                                                                 \n",
      "=================================================================\n",
      "Total params: 15,043,653\n",
      "Trainable params: 328,965\n",
      "Non-trainable params: 14,714,688\n",
      "_________________________________________________________________\n"
     ]
    }
   ],
   "source": [
    "model.summary()"
   ]
  },
  {
   "cell_type": "code",
   "execution_count": 15,
   "metadata": {},
   "outputs": [
    {
     "name": "stderr",
     "output_type": "stream",
     "text": [
      "/tmp/ipykernel_131823/4292572090.py:5: UserWarning: `Model.fit_generator` is deprecated and will be removed in a future version. Please use `Model.fit`, which supports generators.\n",
      "  final_model = model.fit_generator(kag2_data,\n"
     ]
    },
    {
     "name": "stdout",
     "output_type": "stream",
     "text": [
      "Epoch 1/50\n"
     ]
    },
    {
     "name": "stderr",
     "output_type": "stream",
     "text": [
      "2023-06-28 15:49:03.034854: W tensorflow/tsl/framework/cpu_allocator_impl.cc:83] Allocation of 19267584 exceeds 10% of free system memory.\n",
      "2023-06-28 15:49:04.303185: W tensorflow/tsl/framework/cpu_allocator_impl.cc:83] Allocation of 19267584 exceeds 10% of free system memory.\n",
      "2023-06-28 15:49:04.317260: W tensorflow/tsl/framework/cpu_allocator_impl.cc:83] Allocation of 411041792 exceeds 10% of free system memory.\n",
      "2023-06-28 15:49:04.761646: W tensorflow/tsl/framework/cpu_allocator_impl.cc:83] Allocation of 411041792 exceeds 10% of free system memory.\n"
     ]
    },
    {
     "name": "stdout",
     "output_type": "stream",
     "text": [
      "12/12 [==============================] - 125s 10s/step - loss: 1.6992 - accuracy: 0.2019\n",
      "Epoch 2/50\n",
      "12/12 [==============================] - 97s 8s/step - loss: 1.5987 - accuracy: 0.2577\n",
      "Epoch 3/50\n",
      "12/12 [==============================] - 103s 8s/step - loss: 1.5460 - accuracy: 0.3029\n",
      "Epoch 4/50\n",
      "12/12 [==============================] - 102s 8s/step - loss: 1.4823 - accuracy: 0.3822\n",
      "Epoch 5/50\n",
      "12/12 [==============================] - 106s 8s/step - loss: 1.3714 - accuracy: 0.4375\n",
      "Epoch 6/50\n",
      "12/12 [==============================] - 122s 10s/step - loss: 1.3793 - accuracy: 0.4046\n",
      "Epoch 7/50\n",
      "12/12 [==============================] - 123s 10s/step - loss: 1.2955 - accuracy: 0.4928\n",
      "Epoch 8/50\n",
      "12/12 [==============================] - 115s 9s/step - loss: 1.2346 - accuracy: 0.5120\n",
      "Epoch 9/50\n",
      "12/12 [==============================] - 114s 9s/step - loss: 1.2388 - accuracy: 0.4880\n",
      "Epoch 10/50\n",
      "12/12 [==============================] - 110s 9s/step - loss: 1.2223 - accuracy: 0.4794\n",
      "Epoch 11/50\n",
      "12/12 [==============================] - 116s 9s/step - loss: 1.1053 - accuracy: 0.5553\n",
      "Epoch 12/50\n",
      "12/12 [==============================] - 109s 9s/step - loss: 1.1092 - accuracy: 0.5515\n",
      "Epoch 13/50\n",
      "12/12 [==============================] - 109s 9s/step - loss: 1.0497 - accuracy: 0.6010\n",
      "Epoch 14/50\n",
      "12/12 [==============================] - 99s 8s/step - loss: 1.1119 - accuracy: 0.6005\n",
      "Epoch 15/50\n",
      "12/12 [==============================] - 129s 10s/step - loss: 1.0401 - accuracy: 0.5625\n",
      "Epoch 16/50\n",
      "12/12 [==============================] - 149s 12s/step - loss: 0.9922 - accuracy: 0.6346\n",
      "Epoch 17/50\n",
      "12/12 [==============================] - 151s 12s/step - loss: 0.9620 - accuracy: 0.6298\n",
      "Epoch 18/50\n",
      "12/12 [==============================] - 160s 13s/step - loss: 0.9790 - accuracy: 0.6274\n",
      "Epoch 19/50\n",
      "12/12 [==============================] - 115s 9s/step - loss: 0.9486 - accuracy: 0.6005\n",
      "Epoch 20/50\n",
      "12/12 [==============================] - 108s 9s/step - loss: 0.8778 - accuracy: 0.6469\n",
      "Epoch 21/50\n",
      "12/12 [==============================] - 110s 9s/step - loss: 0.9219 - accuracy: 0.5962\n",
      "Epoch 22/50\n",
      "12/12 [==============================] - 102s 8s/step - loss: 0.8758 - accuracy: 0.6649\n",
      "Epoch 23/50\n",
      "12/12 [==============================] - 118s 9s/step - loss: 0.8043 - accuracy: 0.6675\n",
      "Epoch 24/50\n",
      "12/12 [==============================] - 113s 9s/step - loss: 0.8561 - accuracy: 0.6727\n",
      "Epoch 25/50\n",
      "12/12 [==============================] - 105s 8s/step - loss: 0.8487 - accuracy: 0.6546\n",
      "Epoch 26/50\n",
      "12/12 [==============================] - 105s 8s/step - loss: 0.7891 - accuracy: 0.7139\n",
      "Epoch 27/50\n",
      "12/12 [==============================] - 105s 9s/step - loss: 0.8706 - accuracy: 0.6649\n",
      "Epoch 28/50\n",
      "12/12 [==============================] - 105s 8s/step - loss: 0.8180 - accuracy: 0.6804\n",
      "Epoch 29/50\n",
      "12/12 [==============================] - 104s 8s/step - loss: 0.7588 - accuracy: 0.7088\n",
      "Epoch 30/50\n",
      "12/12 [==============================] - 105s 8s/step - loss: 0.7061 - accuracy: 0.7474\n",
      "Epoch 31/50\n",
      "12/12 [==============================] - 112s 9s/step - loss: 0.7071 - accuracy: 0.7260\n",
      "Epoch 32/50\n",
      "12/12 [==============================] - 113s 9s/step - loss: 0.6709 - accuracy: 0.7524\n",
      "Epoch 33/50\n",
      "12/12 [==============================] - 111s 9s/step - loss: 0.6970 - accuracy: 0.7356\n",
      "Epoch 34/50\n",
      "12/12 [==============================] - 106s 8s/step - loss: 0.6375 - accuracy: 0.7692\n",
      "Epoch 35/50\n",
      "12/12 [==============================] - 102s 8s/step - loss: 0.6855 - accuracy: 0.7524\n",
      "Epoch 36/50\n",
      "12/12 [==============================] - 94s 7s/step - loss: 0.6003 - accuracy: 0.7732\n",
      "Epoch 37/50\n",
      "12/12 [==============================] - 102s 8s/step - loss: 0.6616 - accuracy: 0.7692\n",
      "Epoch 38/50\n",
      "12/12 [==============================] - 99s 8s/step - loss: 0.5838 - accuracy: 0.7629\n",
      "Epoch 39/50\n",
      "12/12 [==============================] - 108s 9s/step - loss: 0.6284 - accuracy: 0.7644\n",
      "Epoch 40/50\n",
      "12/12 [==============================] - 107s 8s/step - loss: 0.5539 - accuracy: 0.7909\n",
      "Epoch 41/50\n",
      "12/12 [==============================] - 104s 8s/step - loss: 0.6161 - accuracy: 0.7740\n",
      "Epoch 42/50\n",
      "12/12 [==============================] - 103s 8s/step - loss: 0.5491 - accuracy: 0.7909\n",
      "Epoch 43/50\n",
      "12/12 [==============================] - 101s 8s/step - loss: 0.5073 - accuracy: 0.8015\n",
      "Epoch 44/50\n",
      "12/12 [==============================] - 105s 8s/step - loss: 0.5492 - accuracy: 0.7885\n",
      "Epoch 45/50\n",
      "12/12 [==============================] - 105s 8s/step - loss: 0.5357 - accuracy: 0.8053\n",
      "Epoch 46/50\n",
      "12/12 [==============================] - 106s 8s/step - loss: 0.5618 - accuracy: 0.7740\n",
      "Epoch 47/50\n",
      "12/12 [==============================] - 102s 8s/step - loss: 0.5123 - accuracy: 0.8053\n",
      "Epoch 48/50\n",
      "12/12 [==============================] - 102s 8s/step - loss: 0.4704 - accuracy: 0.8317\n",
      "Epoch 49/50\n",
      "12/12 [==============================] - 105s 8s/step - loss: 0.4857 - accuracy: 0.8101\n",
      "Epoch 50/50\n",
      "12/12 [==============================] - 109s 9s/step - loss: 0.4845 - accuracy: 0.8196\n"
     ]
    }
   ],
   "source": [
    "num_train_samples = 804\n",
    "batch_size = 64\n",
    "epochs = 50\n",
    "\n",
    "final_model = model.fit_generator(kag2_data,\n",
    "                                  steps_per_epoch=num_train_samples/batch_size,\n",
    "                                  epochs=epochs)"
   ]
  },
  {
   "cell_type": "code",
   "execution_count": 16,
   "metadata": {},
   "outputs": [
    {
     "name": "stdout",
     "output_type": "stream",
     "text": [
      "Found 201 images belonging to 5 classes.\n"
     ]
    }
   ],
   "source": [
    "test_datagen = ImageDataGenerator(rescale=1/255)\n",
    "crop_data = test_datagen.flow_from_directory('data/crop_detection/crop_images',\n",
    "                                             target_size=(224,224),\n",
    "                                             class_mode='categorical',\n",
    "                                             shuffle=True,\n",
    "                                             batch_size=32)"
   ]
  },
  {
   "cell_type": "code",
   "execution_count": 17,
   "metadata": {},
   "outputs": [
    {
     "data": {
      "image/png": "[encoded data removed]",
      "text/plain": [
       "<Figure size 640x480 with 1 Axes>"
      ]
     },
     "metadata": {},
     "output_type": "display_data"
    }
   ],
   "source": [
    "plt.plot(final_model.history['loss'],label='train_loss')\n",
    "plt.plot(final_model.history['accuracy'],label=\"train_acc\")\n",
    "plt.legend()\n",
    "plt.show()"
   ]
  },
  {
   "cell_type": "code",
   "execution_count": 18,
   "metadata": {},
   "outputs": [
    {
     "name": "stderr",
     "output_type": "stream",
     "text": [
      "/tmp/ipykernel_131823/775190283.py:4: UserWarning: `Model.predict_generator` is deprecated and will be removed in a future version. Please use `Model.predict`, which supports generators.\n",
      "  Y_pred = model.predict_generator(crop_data)\n"
     ]
    }
   ],
   "source": [
    "class_labels = crop_data.class_indices\n",
    "class_labels = {v: k for k, v in class_labels.items()}\n",
    "classes = list(class_labels.values())\n",
    "Y_pred = model.predict_generator(crop_data)\n",
    "y_pred = np.argmax(Y_pred, axis = 1)"
   ]
  },
  {
   "cell_type": "code",
   "execution_count": 19,
   "metadata": {},
   "outputs": [],
   "source": [
    "def predict_crop(path, actual, class_labels):\n",
    "    img = cv2.imread(path)\n",
    "    img = cv2.resize(img, (224,224))\n",
    "    img = np.array(img).reshape((1,224,224,3))\n",
    "    Y_pred = model.predict(img)\n",
    "    y_pred = np.argmax(Y_pred, axis=1)\n",
    "    if y_pred == actual:\n",
    "        print(\"Correct Prediction\")\n",
    "    else:\n",
    "        print(\"Wrong Prediction\")\n",
    "    print('Accual class \"{0}\" and predicted class \"{1}\"'.format(class_labels[int(y_pred)],class_labels[actual]))\n",
    "    \n",
    "    "
   ]
  },
  {
   "cell_type": "code",
   "execution_count": 20,
   "metadata": {},
   "outputs": [
    {
     "name": "stdout",
     "output_type": "stream",
     "text": [
      "1/1 [==============================] - 1s 585ms/step\n",
      "Wrong Prediction\n",
      "Accual class \"maize\" and predicted class \"rice\"\n"
     ]
    }
   ],
   "source": [
    "predict_crop('data/crop_detection/kag2/rice/rice024ahs.jpeg',2,class_labels)"
   ]
  },
  {
   "cell_type": "code",
   "execution_count": 21,
   "metadata": {},
   "outputs": [
    {
     "name": "stdout",
     "output_type": "stream",
     "text": [
      "1/1 [==============================] - 0s 310ms/step\n",
      "Wrong Prediction\n",
      "Accual class \"maize\" and predicted class \"sugarcane\"\n"
     ]
    }
   ],
   "source": [
    "predict_crop('data/crop_detection/test_crop_image/sugarcane fields.jpg',3,class_labels)"
   ]
  },
  {
   "cell_type": "code",
   "execution_count": null,
   "metadata": {},
   "outputs": [],
   "source": []
  }
 ],
 "metadata": {
  "kernelspec": {
   "display_name": "Python 3",
   "language": "python",
   "name": "python3"
  },
  "language_info": {
   "codemirror_mode": {
    "name": "ipython",
    "version": 3
   },
   "file_extension": ".py",
   "mimetype": "text/x-python",
   "name": "python",
   "nbconvert_exporter": "python",
   "pygments_lexer": "ipython3",
   "version": "3.9.16"
  },
  "orig_nbformat": 4
 },
 "nbformat": 4,
 "nbformat_minor": 2
}
